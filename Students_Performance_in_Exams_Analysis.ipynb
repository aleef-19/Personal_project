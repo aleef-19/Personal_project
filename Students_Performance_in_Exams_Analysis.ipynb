{
  "metadata": {
    "kernelspec": {
      "language": "python",
      "display_name": "Python 3",
      "name": "python3"
    },
    "language_info": {
      "name": "python",
      "version": "3.11.11",
      "mimetype": "text/x-python",
      "codemirror_mode": {
        "name": "ipython",
        "version": 3
      },
      "pygments_lexer": "ipython3",
      "nbconvert_exporter": "python",
      "file_extension": ".py"
    },
    "kaggle": {
      "accelerator": "none",
      "dataSources": [
        {
          "sourceId": 169835,
          "sourceType": "datasetVersion",
          "datasetId": 74977
        }
      ],
      "dockerImageVersionId": 31012,
      "isInternetEnabled": true,
      "language": "python",
      "sourceType": "notebook",
      "isGpuEnabled": false
    },
    "colab": {
      "name": "Students Performance in Exams Analysis",
      "provenance": [],
      "include_colab_link": true
    }
  },
  "nbformat_minor": 0,
  "nbformat": 4,
  "cells": [
    {
      "cell_type": "markdown",
      "metadata": {
        "id": "view-in-github",
        "colab_type": "text"
      },
      "source": [
        "<a href=\"https://colab.research.google.com/github/aleef-19/Personal_project/blob/main/Students_Performance_in_Exams_Analysis.ipynb\" target=\"_parent\"><img src=\"https://colab.research.google.com/assets/colab-badge.svg\" alt=\"Open In Colab\"/></a>"
      ]
    },
    {
      "source": [
        "import kagglehub\n",
        "spscientist_students_performance_in_exams_path = kagglehub.dataset_download('spscientist/students-performance-in-exams')\n",
        "\n",
        "print('Data source import complete.')\n"
      ],
      "metadata": {
        "id": "Sqr-Z0yqO3Vl"
      },
      "cell_type": "code",
      "outputs": [],
      "execution_count": null
    },
    {
      "cell_type": "code",
      "source": [
        "import numpy as np # linear algebra\n",
        "import pandas as pd # data processing, CSV file I/O (e.g. pd.read_csv)\n",
        "import os\n",
        "for dirname, _, filenames in os.walk('/kaggle/input'):\n",
        "    for filename in filenames:\n",
        "        print(os.path.join(dirname, filename))"
      ],
      "metadata": {
        "_uuid": "8f2839f25d086af736a60e9eeb907d3b93b6e0e5",
        "_cell_guid": "b1076dfc-b9ad-4769-8c92-a6c4dae69d19",
        "trusted": true,
        "execution": {
          "iopub.status.busy": "2025-04-11T00:12:51.355441Z",
          "iopub.execute_input": "2025-04-11T00:12:51.355743Z",
          "iopub.status.idle": "2025-04-11T00:12:51.363787Z",
          "shell.execute_reply.started": "2025-04-11T00:12:51.355717Z",
          "shell.execute_reply": "2025-04-11T00:12:51.362934Z"
        },
        "id": "n89tBd3DO3Vn"
      },
      "outputs": [],
      "execution_count": null
    },
    {
      "cell_type": "code",
      "source": [
        "## First, let's import necessary libraries and set the style for the visualizationsimport pandas as pd\n",
        "import matplotlib.pyplot as plt\n",
        "import matplotlib.style as style\n",
        "import numpy as np\n",
        "style.use('fivethirtyeight')"
      ],
      "metadata": {
        "trusted": true,
        "execution": {
          "iopub.status.busy": "2025-04-11T00:12:51.365122Z",
          "iopub.execute_input": "2025-04-11T00:12:51.365444Z",
          "iopub.status.idle": "2025-04-11T00:12:51.387511Z",
          "shell.execute_reply.started": "2025-04-11T00:12:51.36542Z",
          "shell.execute_reply": "2025-04-11T00:12:51.386377Z"
        },
        "id": "YyUfxxAXO3Vq"
      },
      "outputs": [],
      "execution_count": null
    },
    {
      "cell_type": "markdown",
      "source": [
        "# Exploring the data"
      ],
      "metadata": {
        "id": "ZlMgXMclO3Vq"
      }
    },
    {
      "cell_type": "code",
      "source": [
        "tests = pd.read_csv('/kaggle/input/students-performance-in-exams/StudentsPerformance.csv')\n",
        "tests.head()"
      ],
      "metadata": {
        "trusted": true,
        "execution": {
          "iopub.status.busy": "2025-04-11T00:12:51.388625Z",
          "iopub.execute_input": "2025-04-11T00:12:51.388944Z",
          "iopub.status.idle": "2025-04-11T00:12:51.450247Z",
          "shell.execute_reply.started": "2025-04-11T00:12:51.388912Z",
          "shell.execute_reply": "2025-04-11T00:12:51.449446Z"
        },
        "id": "8LpehGhQO3Vr"
      },
      "outputs": [],
      "execution_count": null
    },
    {
      "cell_type": "code",
      "source": [
        "tests.info()"
      ],
      "metadata": {
        "trusted": true,
        "execution": {
          "iopub.status.busy": "2025-04-11T00:12:51.451853Z",
          "iopub.execute_input": "2025-04-11T00:12:51.452117Z",
          "iopub.status.idle": "2025-04-11T00:12:51.478438Z",
          "shell.execute_reply.started": "2025-04-11T00:12:51.452094Z",
          "shell.execute_reply": "2025-04-11T00:12:51.477482Z"
        },
        "id": "aA6RsH1wO3Vr"
      },
      "outputs": [],
      "execution_count": null
    },
    {
      "cell_type": "markdown",
      "source": [
        "- There are no null values. Column names need to be cleaned and shortened."
      ],
      "metadata": {
        "id": "kQVK2x3WO3Vr"
      }
    },
    {
      "cell_type": "code",
      "source": [
        "#Creating shorter, easier to type column names\n",
        "new_columns = ['gender', 'race', 'parent_ed', 'lunch', 'prep_course', 'math', 'reading', 'writing']\n",
        "\n",
        "#assigning new column names\n",
        "tests.columns = new_columns\n",
        "\n",
        "tests.head(1)"
      ],
      "metadata": {
        "trusted": true,
        "execution": {
          "iopub.status.busy": "2025-04-11T00:12:51.479338Z",
          "iopub.execute_input": "2025-04-11T00:12:51.479638Z",
          "iopub.status.idle": "2025-04-11T00:12:51.491924Z",
          "shell.execute_reply.started": "2025-04-11T00:12:51.479616Z",
          "shell.execute_reply": "2025-04-11T00:12:51.490702Z"
        },
        "id": "f-Zq18NqO3Vs"
      },
      "outputs": [],
      "execution_count": null
    },
    {
      "cell_type": "markdown",
      "source": [
        "Exploring columns\n",
        "\n",
        "looping through columns exploring value counts for each"
      ],
      "metadata": {
        "id": "p1fO8xuDO3Vs"
      }
    },
    {
      "cell_type": "code",
      "source": [
        "for c in tests.columns:\n",
        "    print(f\"Value counts for column {c} is: \")\n",
        "    print(tests[c].value_counts())\n",
        "    print() #to leave an empty line after each column for readability\n",
        ""
      ],
      "metadata": {
        "trusted": true,
        "execution": {
          "iopub.status.busy": "2025-04-11T00:12:51.493047Z",
          "iopub.execute_input": "2025-04-11T00:12:51.493449Z",
          "iopub.status.idle": "2025-04-11T00:12:51.521021Z",
          "shell.execute_reply.started": "2025-04-11T00:12:51.493416Z",
          "shell.execute_reply": "2025-04-11T00:12:51.520099Z"
        },
        "id": "WUJUv_TXO3Vs"
      },
      "outputs": [],
      "execution_count": null
    },
    {
      "cell_type": "markdown",
      "source": [
        "# Visualizing the data\n",
        "- Let's first explore the distribution of scores for Math, Reading and writing"
      ],
      "metadata": {
        "id": "ez8u4joNO3Vs"
      }
    },
    {
      "cell_type": "code",
      "source": [
        "tests.head(1)"
      ],
      "metadata": {
        "trusted": true,
        "execution": {
          "iopub.status.busy": "2025-04-11T00:12:51.521977Z",
          "iopub.execute_input": "2025-04-11T00:12:51.522201Z",
          "iopub.status.idle": "2025-04-11T00:12:51.546894Z",
          "shell.execute_reply.started": "2025-04-11T00:12:51.522183Z",
          "shell.execute_reply": "2025-04-11T00:12:51.545891Z"
        },
        "id": "j-9X55ycO3Vs"
      },
      "outputs": [],
      "execution_count": null
    },
    {
      "cell_type": "code",
      "source": [
        "tests['math'].plot.hist(title='Math Score Frequency', xlabel = 'Score')\n",
        "plt.show()"
      ],
      "metadata": {
        "trusted": true,
        "execution": {
          "iopub.status.busy": "2025-04-11T00:12:51.547826Z",
          "iopub.execute_input": "2025-04-11T00:12:51.548075Z",
          "iopub.status.idle": "2025-04-11T00:12:51.906912Z",
          "shell.execute_reply.started": "2025-04-11T00:12:51.548054Z",
          "shell.execute_reply": "2025-04-11T00:12:51.906002Z"
        },
        "id": "RcGOwDzCO3Vs"
      },
      "outputs": [],
      "execution_count": null
    },
    {
      "cell_type": "code",
      "source": [
        "tests['reading'].plot.hist(title='Reading Score Frequency', xlabel = 'Score')\n",
        "plt.show()"
      ],
      "metadata": {
        "trusted": true,
        "execution": {
          "iopub.status.busy": "2025-04-11T00:12:51.907781Z",
          "iopub.execute_input": "2025-04-11T00:12:51.908001Z",
          "iopub.status.idle": "2025-04-11T00:12:52.079785Z",
          "shell.execute_reply.started": "2025-04-11T00:12:51.907983Z",
          "shell.execute_reply": "2025-04-11T00:12:52.078656Z"
        },
        "id": "P163-MM0O3Vt"
      },
      "outputs": [],
      "execution_count": null
    },
    {
      "cell_type": "code",
      "source": [
        "tests['writing'].plot.hist(title='writing Score Frequency', xlabel = 'Score')\n",
        "plt.show"
      ],
      "metadata": {
        "trusted": true,
        "execution": {
          "iopub.status.busy": "2025-04-11T00:12:52.082483Z",
          "iopub.execute_input": "2025-04-11T00:12:52.082766Z",
          "iopub.status.idle": "2025-04-11T00:12:52.296203Z",
          "shell.execute_reply.started": "2025-04-11T00:12:52.082742Z",
          "shell.execute_reply": "2025-04-11T00:12:52.295367Z"
        },
        "id": "RROJZudJO3Vt"
      },
      "outputs": [],
      "execution_count": null
    },
    {
      "cell_type": "markdown",
      "source": [
        "- Let's see how the data splits by gender"
      ],
      "metadata": {
        "id": "yEOsJgf2O3Vt"
      }
    },
    {
      "cell_type": "code",
      "source": [
        "#grouping by `gender`\n",
        "gender_group = tests.groupby('gender')\n",
        "\n",
        "#creating female and male groupings\n",
        "female = gender_group.get_group('female')\n",
        "male = gender_group.get_group('male')"
      ],
      "metadata": {
        "trusted": true,
        "execution": {
          "iopub.status.busy": "2025-04-11T00:12:52.297104Z",
          "iopub.execute_input": "2025-04-11T00:12:52.297398Z",
          "iopub.status.idle": "2025-04-11T00:12:52.307161Z",
          "shell.execute_reply.started": "2025-04-11T00:12:52.297371Z",
          "shell.execute_reply": "2025-04-11T00:12:52.306361Z"
        },
        "id": "x6nr6E7aO3Vt"
      },
      "outputs": [],
      "execution_count": null
    },
    {
      "cell_type": "markdown",
      "source": [
        "- Now let's take a look at:\n",
        "    - Mean\n",
        "    - Minimum\n",
        "    - Maximum\n",
        "    - Median test scores for each gender"
      ],
      "metadata": {
        "id": "yXQ9qQNvO3Vt"
      }
    },
    {
      "cell_type": "code",
      "source": [
        "female_scores = female[['math', 'reading', 'writing']]\n",
        "female_avg_scores = female_scores.agg(['mean', 'min', 'max', 'median'])\n",
        "print(\"Female Scores\")\n",
        "female_avg_scores\n",
        ""
      ],
      "metadata": {
        "trusted": true,
        "execution": {
          "iopub.status.busy": "2025-04-11T00:12:52.308206Z",
          "iopub.execute_input": "2025-04-11T00:12:52.308539Z",
          "iopub.status.idle": "2025-04-11T00:12:52.330985Z",
          "shell.execute_reply.started": "2025-04-11T00:12:52.308509Z",
          "shell.execute_reply": "2025-04-11T00:12:52.329534Z"
        },
        "id": "VUJkbgCrO3Vt"
      },
      "outputs": [],
      "execution_count": null
    },
    {
      "cell_type": "code",
      "source": [
        "male_scores = male[['math', 'reading', 'writing']]\n",
        "male_avg_scores = male_scores.agg(['mean', 'min', 'max', 'median'])\n",
        "print(\"Male Scores\")\n",
        "m_median_math = male_avg_scores.loc['median', 'math']\n",
        "m_median_read = male_avg_scores.loc['median', 'reading']\n",
        "m_median_writing = male_avg_scores.loc['median', 'writing']\n",
        "male_avg_scores"
      ],
      "metadata": {
        "trusted": true,
        "execution": {
          "iopub.status.busy": "2025-04-11T00:12:52.332137Z",
          "iopub.execute_input": "2025-04-11T00:12:52.333082Z",
          "iopub.status.idle": "2025-04-11T00:12:52.360413Z",
          "shell.execute_reply.started": "2025-04-11T00:12:52.333051Z",
          "shell.execute_reply": "2025-04-11T00:12:52.359432Z"
        },
        "id": "Hkac8LRvO3Vt"
      },
      "outputs": [],
      "execution_count": null
    },
    {
      "cell_type": "markdown",
      "source": [
        "- Let's try to plot test scores, by gender with mean and median overlayed"
      ],
      "metadata": {
        "id": "c0jOEorsO3Vt"
      }
    },
    {
      "cell_type": "code",
      "source": [
        "#Creating variables for medians\n",
        "m_math_median = male_avg_scores.loc['median', 'math']\n",
        "m_read_median =  male_avg_scores.loc['median', 'reading']\n",
        "m_write_median =  male_avg_scores.loc['median', 'writing']\n",
        "\n",
        "f_math_median = female_avg_scores.loc['median', 'math']\n",
        "f_read_median =  female_avg_scores.loc['median', 'reading']\n",
        "f_write_median =  female_avg_scores.loc['median', 'writing']"
      ],
      "metadata": {
        "trusted": true,
        "execution": {
          "iopub.status.busy": "2025-04-11T00:12:52.361432Z",
          "iopub.execute_input": "2025-04-11T00:12:52.362425Z",
          "iopub.status.idle": "2025-04-11T00:12:52.379707Z",
          "shell.execute_reply.started": "2025-04-11T00:12:52.362399Z",
          "shell.execute_reply": "2025-04-11T00:12:52.37854Z"
        },
        "id": "FyyugN1BO3Vt"
      },
      "outputs": [],
      "execution_count": null
    },
    {
      "cell_type": "code",
      "source": [
        "#visualization\n",
        "\n",
        "plt.figure(figsize=(14,6))\n",
        "\n",
        "#Male plots\n",
        "\n",
        "plt.subplot(2,3,1)\n",
        "plt.hist(male['math'])\n",
        "plt.xticks([0,50,100, m_math_median])\n",
        "plt.yticks([0,50,100, 150])\n",
        "plt.ylim(0,160) #adding y limits for easier comparision\n",
        "plt.ylabel('Male')\n",
        "plt.title('Math')\n",
        "plt.axvline(m_math_median, c='yellow')\n",
        "plt.legend(['Median'], loc='upper left')\n",
        "#m_median_math\n",
        "\n",
        "\n",
        "plt.subplot(2,3,2)\n",
        "plt.hist(male['reading'])\n",
        "plt.xticks([0,100,50, m_read_median])\n",
        "plt.yticks([0,50,100, 150])\n",
        "plt.ylim(0,160) #adding y limits for easier comparision\n",
        "plt.title('Reading')\n",
        "plt.axvline(m_read_median, c='yellow')\n",
        "plt.legend(['Median'], loc='upper left')\n",
        "\n",
        "\n",
        "plt.subplot(2,3,3)\n",
        "plt.hist(male['writing'])\n",
        "plt.xticks([0,50,100, m_write_median])\n",
        "plt.yticks([0,50,100, 150])\n",
        "plt.ylim(0,160) #adding y limits for easier comparision\n",
        "plt.title('Writing')\n",
        "plt.axvline(m_write_median, c='yellow')\n",
        "plt.legend(['Median'], loc='upper left')\n",
        "\n",
        "#Female Plots\n",
        "plt.subplot(2,3,4)\n",
        "plt.hist(female['math'])\n",
        "plt.ylabel('Female')\n",
        "plt.xlabel('Score')\n",
        "plt.xticks([0,100,50, f_math_median])\n",
        "plt.yticks([0,50,100, 150])\n",
        "plt.ylim(0,160) #adding y limits for easier comparision\n",
        "plt.axvline(f_math_median, c='yellow')\n",
        "plt.legend(['Median'], loc='upper left')\n",
        "\n",
        "plt.subplot(2,3,5)\n",
        "plt.hist(female['reading'])\n",
        "plt.xlabel('Score')\n",
        "plt.xticks([0,100,50, f_read_median])\n",
        "plt.yticks([0,50,100, 150])\n",
        "plt.ylim(0,160) #adding y limits for easier comparision\n",
        "plt.axvline(f_read_median, c='yellow')\n",
        "plt.legend(['Median'], loc='upper left')\n",
        "\n",
        "plt.subplot(2,3,6)\n",
        "plt.hist(female['writing'])\n",
        "plt.xlabel('Score')\n",
        "plt.xticks([0,100,50, f_write_median])\n",
        "plt.yticks([0,50,100, 150])\n",
        "plt.ylim(0,160) #adding y limits for easier comparision\n",
        "plt.axvline(f_write_median, c='yellow')\n",
        "plt.legend(['Median'], loc='upper left')\n",
        "\n",
        "plt.show()"
      ],
      "metadata": {
        "trusted": true,
        "execution": {
          "iopub.status.busy": "2025-04-11T00:12:52.38112Z",
          "iopub.execute_input": "2025-04-11T00:12:52.381496Z",
          "iopub.status.idle": "2025-04-11T00:12:53.06504Z",
          "shell.execute_reply.started": "2025-04-11T00:12:52.381464Z",
          "shell.execute_reply": "2025-04-11T00:12:53.064107Z"
        },
        "id": "zNqvAbpFO3Vt"
      },
      "outputs": [],
      "execution_count": null
    },
    {
      "cell_type": "markdown",
      "source": [
        "# Observations\n",
        "- Males have a higer median Math score than females\n",
        "- Females have higher median scores in Reading and Writing\n",
        "\n",
        "### next, let's dive deeper into what/if other factors affect test scores"
      ],
      "metadata": {
        "id": "Q9j4l9McO3Vu"
      }
    },
    {
      "cell_type": "markdown",
      "source": [
        "# Test Prep\n",
        "### Does test prep have an effect on test scores?"
      ],
      "metadata": {
        "id": "0VJrhRSMO3Vu"
      }
    },
    {
      "cell_type": "code",
      "source": [
        "#grouping by `prep_course`\n",
        "prep_group = tests.groupby('prep_course')\n",
        "\n",
        "#creating prep and no_prep groupings\n",
        "prep = prep_group.get_group('completed')\n",
        "no_prep = prep_group.get_group('none')\n",
        "\n",
        "\n",
        "#Calculating Averages\n",
        "\n",
        "#Prep\n",
        "prep_scores = prep[['math', 'reading', 'writing']]\n",
        "prep_avg_scores = prep_scores.agg(['mean', 'min', 'max', 'median'])\n",
        "print(\"Test Prep Scores\")\n",
        "prep_avg_scores"
      ],
      "metadata": {
        "trusted": true,
        "execution": {
          "iopub.status.busy": "2025-04-11T00:12:53.066026Z",
          "iopub.execute_input": "2025-04-11T00:12:53.066361Z",
          "iopub.status.idle": "2025-04-11T00:12:53.085985Z",
          "shell.execute_reply.started": "2025-04-11T00:12:53.066335Z",
          "shell.execute_reply": "2025-04-11T00:12:53.084846Z"
        },
        "id": "xE8PPqjhO3Vu"
      },
      "outputs": [],
      "execution_count": null
    },
    {
      "cell_type": "code",
      "source": [
        "#No Prep\n",
        "no_prep_scores = no_prep[['math', 'reading', 'writing']]\n",
        "no_prep_avg_scores = no_prep_scores.agg(['mean', 'min', 'max', 'median'])\n",
        "print(\"No Test Prep Scores\")\n",
        "no_prep_avg_scores"
      ],
      "metadata": {
        "trusted": true,
        "execution": {
          "iopub.status.busy": "2025-04-11T00:12:53.086814Z",
          "iopub.execute_input": "2025-04-11T00:12:53.087041Z",
          "iopub.status.idle": "2025-04-11T00:12:53.104928Z",
          "shell.execute_reply.started": "2025-04-11T00:12:53.087024Z",
          "shell.execute_reply": "2025-04-11T00:12:53.103896Z"
        },
        "id": "ImhijNzVO3Vu"
      },
      "outputs": [],
      "execution_count": null
    },
    {
      "cell_type": "code",
      "source": [
        "#Creating variables for medians\n",
        "p_math_median = prep_avg_scores.loc['median','math']\n",
        "p_read_median = prep_avg_scores.loc['median','reading']\n",
        "p_write_median = prep_avg_scores.loc['median','writing']\n",
        "np_math_median = no_prep_avg_scores.loc['median','math']\n",
        "np_read_median = no_prep_avg_scores.loc['median','reading']\n",
        "np_write_median = no_prep_avg_scores.loc['median','writing']\n",
        "\n",
        "\n",
        "\n",
        "plt.figure(figsize=(14,6))\n",
        "\n",
        "#Test Prep plots\n",
        "\n",
        "plt.subplot(2,3,1)\n",
        "plt.hist(prep['math'])\n",
        "plt.xticks([0,100,50, p_math_median])\n",
        "plt.yticks([0,100,200])\n",
        "plt.ylim(0,200) #adding y limits for easier comparision\n",
        "plt.ylabel('Test Prep')\n",
        "plt.title('Math')\n",
        "plt.axvline(prep_avg_scores.loc['median', 'math'], c='yellow')\n",
        "plt.legend(['Median'], loc='upper left')\n",
        "#m_median_math\n",
        "\n",
        "\n",
        "plt.subplot(2,3,2)\n",
        "plt.hist(prep['reading'])\n",
        "plt.xticks([0,100,50, p_read_median])\n",
        "plt.yticks([0,100,200])\n",
        "plt.ylim(0,200) #adding y limits for easier comparision\n",
        "plt.title('Reading')\n",
        "plt.axvline(prep_avg_scores.loc['median', 'reading'], c='yellow')\n",
        "plt.legend(['Median'], loc='upper left')\n",
        "\n",
        "\n",
        "plt.subplot(2,3,3)\n",
        "plt.hist(prep['writing'])\n",
        "plt.xticks([0,100,50, p_write_median])\n",
        "plt.yticks([0,100,200])\n",
        "plt.ylim(0,200) #adding y limits for easier comparision\n",
        "plt.title('Writing')\n",
        "plt.axvline(prep_avg_scores.loc['median', 'writing'], c='yellow')\n",
        "plt.legend(['Median'], loc='upper left')\n",
        "\n",
        "#No Test Plots\n",
        "plt.subplot(2,3,4)\n",
        "plt.hist(no_prep['math'])\n",
        "plt.ylabel('No Test Prep')\n",
        "plt.xlabel('Score')\n",
        "plt.xticks([0,100,50, np_math_median])\n",
        "plt.yticks([0,100,200])\n",
        "plt.ylim(0,200) #adding y limits for easier comparision\n",
        "plt.axvline(no_prep_avg_scores.loc['median', 'math'], c='yellow')\n",
        "plt.legend(['Median'], loc='upper left')\n",
        "\n",
        "plt.subplot(2,3,5)\n",
        "plt.hist(no_prep['reading'])\n",
        "plt.xlabel('Score')\n",
        "plt.xticks([0,100,50, np_read_median])\n",
        "plt.yticks([0,100,200])\n",
        "plt.ylim(0,200) #adding y limits for easier comparision\n",
        "plt.axvline(no_prep_avg_scores.loc['median', 'reading'], c='yellow')\n",
        "plt.legend(['Median'], loc='upper left')\n",
        "\n",
        "plt.subplot(2,3,6)\n",
        "plt.hist(no_prep['writing'])\n",
        "plt.xlabel('Score')\n",
        "plt.xticks([0,100,50,np_write_median])\n",
        "plt.yticks([0,100,200])\n",
        "plt.ylim(0,200) #adding y limits for easier comparision\n",
        "plt.axvline(no_prep_avg_scores.loc['median', 'writing'], c='yellow')\n",
        "plt.legend(['Median'], loc='upper left')\n",
        "\n",
        "plt.show()"
      ],
      "metadata": {
        "trusted": true,
        "execution": {
          "iopub.status.busy": "2025-04-11T00:12:53.105907Z",
          "iopub.execute_input": "2025-04-11T00:12:53.106154Z",
          "iopub.status.idle": "2025-04-11T00:12:53.765136Z",
          "shell.execute_reply.started": "2025-04-11T00:12:53.106132Z",
          "shell.execute_reply": "2025-04-11T00:12:53.764297Z"
        },
        "id": "3nFGZClDO3Vu"
      },
      "outputs": [],
      "execution_count": null
    },
    {
      "cell_type": "markdown",
      "source": [
        "# Observations\n",
        "- Majority of students do not take test prep for all tests\n",
        "- The __median test score for all tests is higher for those students that take test prep___\n",
        "- The average test score for math is the __same__ for students that took a test prep and those who didn't\n",
        "- The average score for reading is __higher__ for students that took test prep\n",
        "- The average score for writing is __higher__ for students that took test prep"
      ],
      "metadata": {
        "id": "VOXSiXt2O3Vu"
      }
    },
    {
      "cell_type": "markdown",
      "source": [
        "## Exploring effect of parent's education on student's test score"
      ],
      "metadata": {
        "id": "63jKmxnkO3Vu"
      }
    },
    {
      "cell_type": "code",
      "source": [
        "tests['parent_ed'].value_counts()"
      ],
      "metadata": {
        "trusted": true,
        "execution": {
          "iopub.status.busy": "2025-04-11T00:12:53.766175Z",
          "iopub.execute_input": "2025-04-11T00:12:53.766444Z",
          "iopub.status.idle": "2025-04-11T00:12:53.773873Z",
          "shell.execute_reply.started": "2025-04-11T00:12:53.766423Z",
          "shell.execute_reply": "2025-04-11T00:12:53.773048Z"
        },
        "id": "nkjAM8W-O3Vu"
      },
      "outputs": [],
      "execution_count": null
    },
    {
      "cell_type": "code",
      "source": [
        "#group by parent's education\n",
        "\n",
        "parent_ed_grouped = tests.groupby('parent_ed')\n",
        "\n",
        "\n",
        "\n",
        "#some high school\n",
        "s_high_school = parent_ed_grouped.get_group('some high school')\n",
        "s_high_school_scores = s_high_school[['math', 'reading', 'writing']]\n",
        "s_high_school_avg = s_high_school_scores.agg(['mean', 'min', 'max', 'median'])\n",
        "print('Some High School')\n",
        "print(s_high_school_avg)\n",
        "\n",
        "\n",
        "#high school\n",
        "high_school = parent_ed_grouped.get_group('high school')\n",
        "high_school_scores = high_school[['math', 'reading', 'writing']]\n",
        "high_school_avg = high_school_scores.agg(['mean', 'min', 'max', 'median'])\n",
        "print()\n",
        "print('High School')\n",
        "print(high_school_avg)\n",
        "\n",
        "\n",
        "#some college\n",
        "s_college = parent_ed_grouped.get_group('some college')\n",
        "s_college_scores = s_college[['math', 'reading', 'writing']]\n",
        "s_college_avg = s_college_scores.agg(['mean', 'min', 'max', 'median'])\n",
        "print()\n",
        "print('Some College')\n",
        "print(s_college_avg)\n",
        "\n",
        "\n",
        "#associate's degree\n",
        "associate = parent_ed_grouped.get_group(\"associate's degree\")\n",
        "associate_scores = associate[['math', 'reading', 'writing']]\n",
        "associate_avg = associate_scores.agg(['mean', 'min', 'max', 'median'])\n",
        "print()\n",
        "print(\"Associate's Degree\")\n",
        "print(associate_avg)\n",
        "\n",
        "\n",
        "#bachelor's degree\n",
        "bachelor = parent_ed_grouped.get_group(\"bachelor's degree\")\n",
        "bachelor_scores = bachelor[['math', 'reading', 'writing']]\n",
        "bachelor_avg = bachelor_scores.agg(['mean', 'min', 'max', 'median'])\n",
        "print()\n",
        "print(\"Bachelor's Degree\")\n",
        "print(bachelor_avg)\n",
        "\n",
        "\n",
        "#master's degree\n",
        "master = parent_ed_grouped.get_group(\"master's degree\")\n",
        "master_scores = master[['math', 'reading', 'writing']]\n",
        "master_avg = master_scores.agg(['mean', 'min', 'max', 'median'])\n",
        "print()\n",
        "print(\"Master's Degree\")\n",
        "print(master_avg)\n"
      ],
      "metadata": {
        "trusted": true,
        "execution": {
          "iopub.status.busy": "2025-04-11T00:12:53.774943Z",
          "iopub.execute_input": "2025-04-11T00:12:53.775399Z",
          "iopub.status.idle": "2025-04-11T00:12:53.831243Z",
          "shell.execute_reply.started": "2025-04-11T00:12:53.775363Z",
          "shell.execute_reply": "2025-04-11T00:12:53.830177Z"
        },
        "id": "wVEVaqGHO3Vu"
      },
      "outputs": [],
      "execution_count": null
    },
    {
      "cell_type": "markdown",
      "source": [
        "## Let's visualize those numbers"
      ],
      "metadata": {
        "id": "aIERAxmjO3Vv"
      }
    },
    {
      "cell_type": "code",
      "source": [
        "#Creating variables for medians\n",
        "\n",
        "#Some high School\n",
        "s_high_school_math_median = s_high_school_avg.loc['median', 'math']\n",
        "s_high_school_read_median = s_high_school_avg.loc['median', 'reading']\n",
        "s_high_school_write_median = s_high_school_avg.loc['median', 'writing']\n",
        "\n",
        "#high school\n",
        "high_school_math_median = s_high_school_avg.loc['median', 'math']\n",
        "high_school_read_median = s_high_school_avg.loc['median', 'reading']\n",
        "high_school_write_median = s_high_school_avg.loc['median', 'writing']\n",
        "\n",
        "#Some college\n",
        "s_college_math_median = s_college_avg.loc['median', 'math']\n",
        "s_college_read_median = s_college_avg.loc['median', 'reading']\n",
        "s_college_write_median = s_college_avg.loc['median', 'writing']\n",
        "\n",
        "#Associate's\n",
        "associate_math_median = associate_avg.loc['median', 'math']\n",
        "associate_read_median = associate_avg.loc['median', 'reading']\n",
        "associate_write_median = associate_avg.loc['median', 'writing']\n",
        "\n",
        "#Bachelor's Degree\n",
        "bachelor_math_median = bachelor_avg.loc['median', 'math']\n",
        "bachelor_read_median = bachelor_avg.loc['median', 'reading']\n",
        "bachelor_write_median = bachelor_avg.loc['median', 'writing']\n",
        "\n",
        "#Master's Degree\n",
        "master_math_median = master_avg.loc['median', 'math']\n",
        "master_read_median = master_avg.loc['median', 'reading']\n",
        "master_write_median = master_avg.loc['median', 'writing']\n",
        "\n",
        "\n",
        "#Visualizations\n",
        "\n",
        "plt.figure(figsize=(14,18))\n",
        "\n",
        "#Test Prep plots\n",
        "\n",
        "#Some high school\n",
        "plt.subplot(6,3,1)\n",
        "plt.hist(s_high_school['math'])\n",
        "plt.xticks([0,100,50, s_high_school_math_median])\n",
        "plt.yticks([0,50,100,200])\n",
        "plt.ylim(0,75) #adding y limits for easier comparision\n",
        "plt.ylabel('Some High School')\n",
        "plt.title('Math')\n",
        "plt.axvline(s_high_school_math_median, c='yellow')\n",
        "plt.legend(['Median'], loc='upper left')\n",
        "\n",
        "plt.subplot(6,3,2)\n",
        "plt.hist(s_high_school['reading'])\n",
        "plt.xticks([0,100,50, s_high_school_read_median])\n",
        "plt.yticks([0,50,100,200])\n",
        "plt.ylim(0,75) #adding y limits for easier comparision\n",
        "plt.title('Reading')\n",
        "plt.axvline(s_high_school_read_median, c='yellow')\n",
        "plt.legend(['Median'], loc='upper left')\n",
        "\n",
        "plt.subplot(6,3,3)\n",
        "plt.hist(s_high_school['writing'])\n",
        "plt.xticks([0,100,50, s_high_school_write_median])\n",
        "plt.yticks([0,50,100,200])\n",
        "plt.ylim(0,75) #adding y limits for easier comparision\n",
        "plt.title('Writing')\n",
        "plt.axvline(s_high_school_write_median, c='yellow')\n",
        "plt.legend(['Median'], loc='upper left')\n",
        "\n",
        "\n",
        "#High school\n",
        "plt.subplot(6,3,4)\n",
        "plt.hist(high_school['math'])\n",
        "plt.xticks([0,100,50, high_school_math_median])\n",
        "plt.yticks([0,50,100,200])\n",
        "plt.ylim(0,75) #adding y limits for easier comparision\n",
        "plt.ylabel('High School')\n",
        "plt.axvline(high_school_math_median, c='yellow')\n",
        "plt.legend(['Median'], loc='upper left')\n",
        "\n",
        "plt.subplot(6,3,5)\n",
        "plt.hist(high_school['reading'])\n",
        "plt.xticks([0,100,50, high_school_read_median])\n",
        "plt.yticks([0,50,100,200])\n",
        "plt.ylim(0,75) #adding y limits for easier comparision\n",
        "plt.axvline(high_school_read_median, c='yellow')\n",
        "plt.legend(['Median'], loc='upper left')\n",
        "\n",
        "plt.subplot(6,3,6)\n",
        "plt.hist(high_school['writing'])\n",
        "plt.xticks([0,100,50, high_school_write_median])\n",
        "plt.yticks([0,50,100,200])\n",
        "plt.ylim(0,75) #adding y limits for easier comparision\n",
        "plt.axvline(high_school_write_median, c='yellow')\n",
        "plt.legend(['Median'], loc='upper left')\n",
        "\n",
        "#Some college\n",
        "plt.subplot(6,3,7)\n",
        "plt.hist(s_college['math'])\n",
        "plt.xticks([0,100,50, s_college_math_median])\n",
        "plt.yticks([0,50,100,200])\n",
        "plt.ylim(0,75) #adding y limits for easier comparision\n",
        "plt.ylabel('Some College')\n",
        "plt.axvline(s_college_math_median, c='yellow')\n",
        "plt.legend(['Median'], loc='upper left')\n",
        "\n",
        "plt.subplot(6,3,8)\n",
        "plt.hist(s_college['reading'])\n",
        "plt.xticks([0,100,50, s_college_read_median])\n",
        "plt.yticks([0,50,100,200])\n",
        "plt.ylim(0,75) #adding y limits for easier comparision\n",
        "plt.axvline(s_college_read_median, c='yellow')\n",
        "plt.legend(['Median'], loc='upper left')\n",
        "\n",
        "plt.subplot(6,3,9)\n",
        "plt.hist(s_college['writing'])\n",
        "plt.xticks([0,100,50, s_college_write_median])\n",
        "plt.yticks([0,50,100,200])\n",
        "plt.ylim(0,75) #adding y limits for easier comparision\n",
        "plt.axvline(s_college_write_median, c='yellow')\n",
        "plt.legend(['Median'], loc='upper left')\n",
        "\n",
        "#Associate's\n",
        "plt.subplot(6,3,10)\n",
        "plt.hist(associate['math'])\n",
        "plt.xticks([0,100,50, associate_math_median])\n",
        "plt.yticks([0,50,100,200])\n",
        "plt.ylim(0,75) #adding y limits for easier comparision\n",
        "plt.ylabel(\"Associate's Degree\")\n",
        "plt.axvline(associate_math_median, c='yellow')\n",
        "plt.legend(['Median'], loc='upper left')\n",
        "\n",
        "plt.subplot(6,3,11)\n",
        "plt.hist(associate['reading'])\n",
        "plt.xticks([0,100,50, associate_read_median])\n",
        "plt.yticks([0,50,100,200])\n",
        "plt.ylim(0,75) #adding y limits for easier comparision\n",
        "plt.axvline(associate_read_median, c='yellow')\n",
        "plt.legend(['Median'], loc='upper left')\n",
        "\n",
        "plt.subplot(6,3,12)\n",
        "plt.hist(associate['writing'])\n",
        "plt.xticks([0,100,50, associate_write_median])\n",
        "plt.yticks([0,50,100,200])\n",
        "plt.ylim(0,75) #adding y limits for easier comparision\n",
        "plt.axvline(associate_write_median, c='yellow')\n",
        "plt.legend(['Median'], loc='upper left')\n",
        "\n",
        "#Bachelor's\n",
        "plt.subplot(6,3,13)\n",
        "plt.hist(bachelor['math'])\n",
        "plt.xticks([0,100,50, bachelor_math_median])\n",
        "plt.yticks([0,50,100,200])\n",
        "plt.ylim(0,75) #adding y limits for easier comparision\n",
        "plt.ylabel(\"Bachelor's Degree\")\n",
        "plt.axvline(bachelor_math_median, c='yellow')\n",
        "plt.legend(['Median'], loc='upper left')\n",
        "\n",
        "plt.subplot(6,3,14)\n",
        "plt.hist(bachelor['reading'])\n",
        "plt.xticks([0,100,50, bachelor_read_median])\n",
        "plt.yticks([0,50,100,200])\n",
        "plt.ylim(0,75) #adding y limits for easier comparision\n",
        "plt.axvline(bachelor_read_median, c='yellow')\n",
        "plt.legend(['Median'], loc='upper left')\n",
        "\n",
        "plt.subplot(6,3,15)\n",
        "plt.hist(bachelor['writing'])\n",
        "plt.xticks([0,100,50, bachelor_write_median])\n",
        "plt.yticks([0,50,100,200])\n",
        "plt.ylim(0,75) #adding y limits for easier comparision\n",
        "plt.axvline(bachelor_write_median, c='yellow')\n",
        "plt.legend(['Median'], loc='upper left')\n",
        "\n",
        "#Master's\n",
        "plt.subplot(6,3,16)\n",
        "plt.hist(master['math'])\n",
        "plt.xticks([0,100,50, master_math_median])\n",
        "plt.yticks([0,50,100,200])\n",
        "plt.ylim(0,75) #adding y limits for easier comparision\n",
        "plt.ylabel(\"Master's Degree\")\n",
        "plt.axvline(master_math_median, c='yellow')\n",
        "plt.legend(['Median'], loc='upper left')\n",
        "\n",
        "plt.subplot(6,3,17)\n",
        "plt.hist(master['reading'])\n",
        "plt.xticks([0,100,50, master_read_median])\n",
        "plt.yticks([0,50,100,200])\n",
        "plt.ylim(0,75) #adding y limits for easier comparision\n",
        "plt.axvline(master_read_median, c='yellow')\n",
        "plt.legend(['Median'], loc='upper left')\n",
        "\n",
        "plt.subplot(6,3,18)\n",
        "plt.hist(master['writing'])\n",
        "plt.xticks([0,100,50, master_write_median])\n",
        "plt.yticks([0,50,100,200])\n",
        "plt.ylim(0,75) #adding y limits for easier comparision\n",
        "plt.axvline(master_write_median, c='yellow')\n",
        "plt.legend(['Median'], loc='upper left')"
      ],
      "metadata": {
        "trusted": true,
        "execution": {
          "iopub.status.busy": "2025-04-11T00:12:53.832565Z",
          "iopub.execute_input": "2025-04-11T00:12:53.832811Z",
          "iopub.status.idle": "2025-04-11T00:12:56.064292Z",
          "shell.execute_reply.started": "2025-04-11T00:12:53.832791Z",
          "shell.execute_reply": "2025-04-11T00:12:56.06324Z"
        },
        "id": "d0mXokDMO3Vv"
      },
      "outputs": [],
      "execution_count": null
    },
    {
      "cell_type": "markdown",
      "source": [
        "# Observations\n",
        "- Parent's education appears to have an effect on student's test scores\n",
        "- The higher the parent's education, the higher the median test score\n",
        "- Number of students with parents who have `Some highschool`, `High School` or `Some College` education is about the same\n",
        "- Less students have parents with `Associate's Degree`\n",
        "- Even less students have parents with `Bachelor's Degree`\n",
        "- Even less still are students whose parents havea `Master's Degree`"
      ],
      "metadata": {
        "id": "qoVpr8YZO3Vv"
      }
    }
  ]
}